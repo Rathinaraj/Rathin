{
 "cells": [
  {
   "cell_type": "code",
   "execution_count": 2,
   "metadata": {},
   "outputs": [
    {
     "name": "stdout",
     "output_type": "stream",
     "text": [
      "[2002, 2009, 2016, 2023, 2037, 2044, 2051, 2058, 2072, 2079, 2086, 2093, 2107, 2114, 2121, 2128, 2142, 2149, 2156, 2163, 2177, 2184, 2191, 2198, 2212, 2219, 2226, 2233, 2247, 2254, 2261, 2268, 2282, 2289, 2296, 2303, 2317, 2324, 2331, 2338, 2352, 2359, 2366, 2373, 2387, 2394, 2401, 2408, 2422, 2429, 2436, 2443, 2457, 2464, 2471, 2478, 2492, 2499, 2506, 2513, 2527, 2534, 2541, 2548, 2562, 2569, 2576, 2583, 2597, 2604, 2611, 2618, 2632, 2639, 2646, 2653, 2667, 2674, 2681, 2688, 2702, 2709, 2716, 2723, 2737, 2744, 2751, 2758, 2772, 2779, 2786, 2793, 2807, 2814, 2821, 2828, 2842, 2849, 2856, 2863, 2877, 2884, 2891, 2898, 2912, 2919, 2926, 2933, 2947, 2954, 2961, 2968, 2982, 2989, 2996, 3003, 3017, 3024, 3031, 3038, 3052, 3059, 3066, 3073, 3087, 3094, 3101, 3108, 3122, 3129, 3136, 3143, 3157, 3164, 3171, 3178, 3192, 3199]\n"
     ]
    }
   ],
   "source": [
    "#Write a program which will find all such numbers which are divisible by 7 but are not a multiple of 5, between 2000 and 3200 (both included). The numbers obtained should be printed in a comma-separated sequence on a single line.\n",
    " \n",
    "lambda_list=lambda a:a%7==0 and a%5>0\n",
    "print(list(filter(lambda_list,range(2000,3201))))"
   ]
  },
  {
   "cell_type": "code",
   "execution_count": 13,
   "metadata": {},
   "outputs": [
    {
     "name": "stdout",
     "output_type": "stream",
     "text": [
      "Enter first name   Rathin\n",
      "Enter last Name  Raj\n",
      "jaR nihtaR\n"
     ]
    }
   ],
   "source": [
    "# Write a Python program to accept the user's first and last name and then getting them printed in the the reverse order with a space between first name and last name.\n",
    " \n",
    "fname=input(\"Enter first name   \")\n",
    "lname=input(\"Enter last Name  \")\n",
    "print(lname[::-1]+' '+fname[::-1])"
   ]
  },
  {
   "cell_type": "code",
   "execution_count": 14,
   "metadata": {},
   "outputs": [
    {
     "name": "stdout",
     "output_type": "stream",
     "text": [
      "33.52\n"
     ]
    }
   ],
   "source": [
    "#Write a Python program to find the volume of a sphere with diameter 12 cm.\n",
    "#Formula: V=4/3 * π * r 3\n",
    "\n",
    "def vol_sphere(dia):\n",
    "    vol=(4/3)*(22/7)*((dia/2)**3)\n",
    "    print(round(vol,2))\n",
    "    \n",
    "vol_sphere(4)"
   ]
  },
  {
   "cell_type": "code",
   "execution_count": 15,
   "metadata": {},
   "outputs": [
    {
     "name": "stdout",
     "output_type": "stream",
     "text": [
      "Enter comma seperated values   1,2,3,4,5,6\n",
      "['1', '2', '3', '4', '5', '6']\n"
     ]
    }
   ],
   "source": [
    "#Write a program which accepts a sequence of comma-separated numbers from console and generate a list.\n",
    "def comm_list():\n",
    "    lis=[]\n",
    "    a=input(\"Enter comma seperated values   \")\n",
    "    for i in a:\n",
    "        if i not in ',':\n",
    "            lis.append(i)\n",
    "    print(lis)\n",
    "    \n",
    "comm_list()"
   ]
  },
  {
   "cell_type": "code",
   "execution_count": 16,
   "metadata": {},
   "outputs": [
    {
     "name": "stdout",
     "output_type": "stream",
     "text": [
      "*\n",
      "**\n",
      "***\n",
      "****\n",
      "*****\n",
      "****\n",
      "***\n",
      "**\n",
      "*\n"
     ]
    }
   ],
   "source": [
    "# Create the below pattern using nested for loop in Python\n",
    "def printstar(a):\n",
    "    for i in range(1,a+1):\n",
    "        print(i*'*')\n",
    "    for i in range(a-1,0,-1):\n",
    "        print(i*'*')\n",
    "\n",
    "printstar(5)"
   ]
  },
  {
   "cell_type": "code",
   "execution_count": 17,
   "metadata": {},
   "outputs": [
    {
     "name": "stdout",
     "output_type": "stream",
     "text": [
      "Enter the NameAcadGild\n",
      "dliGdacA\n"
     ]
    }
   ],
   "source": [
    "# Write a Python program to reverse a word after accepting the input from the user\n",
    "a=input(\"Enter the Name\")\n",
    "print(a[::-1])"
   ]
  },
  {
   "cell_type": "code",
   "execution_count": 18,
   "metadata": {},
   "outputs": [
    {
     "name": "stdout",
     "output_type": "stream",
     "text": [
      "    WE, THE PEOPLE OF INDIA,\n",
      "        having solemnly resolved to constitute India into a SOVEREIGN, !\n",
      "            SOCIALIST, SECULAR, DEMOCRATIC\n",
      "                REPUBLIC and to secure to all its citizens\n"
     ]
    }
   ],
   "source": [
    "#Write a Python Program to print the given string in the format specified in the  sample output.\n",
    "# WE, THE PEOPLE OF INDIA, having solemnly resolved to constitute India into a SOVEREIGN,\n",
    "#SOCIALIST, SECULAR, DEMOCRATIC REPUBLIC and to secure to all its citizens\n",
    "a=['WE, THE PEOPLE OF INDIA,','having solemnly resolved to constitute India into a SOVEREIGN, !', 'SOCIALIST, SECULAR, DEMOCRATIC','REPUBLIC and to secure to all its citizens']\n",
    "j=1\n",
    "for i in a:\n",
    "    print((j*4*' ')+i)\n",
    "    j=j+1"
   ]
  },
  {
   "cell_type": "code",
   "execution_count": 20,
   "metadata": {},
   "outputs": [
    {
     "name": "stdout",
     "output_type": "stream",
     "text": [
      "55\n"
     ]
    }
   ],
   "source": [
    "# Write a Python Program to implement your own myreduce() function which works exactly like Python's built-in function reduce()\n",
    "a=[1,2,3,4,5,6,7,8,9,10]\n",
    "def my_reduce(a):\n",
    "    tot_val=0\n",
    "    for i in a:\n",
    "        tot_val=tot_val+i\n",
    "    print(tot_val)\n",
    "    \n",
    "my_reduce(a)"
   ]
  },
  {
   "cell_type": "code",
   "execution_count": 21,
   "metadata": {},
   "outputs": [
    {
     "name": "stdout",
     "output_type": "stream",
     "text": [
      "[2, 4, 6, 8, 10]\n"
     ]
    }
   ],
   "source": [
    "#Write a Python program to implement your own myfilter() function which works exactly like Python's built-in function filter()\n",
    "def filter_fun(a):\n",
    "    lis=[]\n",
    "    for i in a:\n",
    "        if i%2==0:\n",
    "            lis.append(i)\n",
    "    print(lis)\n",
    "\n",
    "filter_fun(a)"
   ]
  },
  {
   "cell_type": "code",
   "execution_count": 22,
   "metadata": {},
   "outputs": [
    {
     "data": {
      "text/plain": [
       "['A', 'C', 'A', 'D', 'G', 'I', 'L', 'D']"
      ]
     },
     "execution_count": 22,
     "metadata": {},
     "output_type": "execute_result"
    }
   ],
   "source": [
    "#Write List comprehensions to produce the following Lists.\n",
    "#['A', 'C', 'A', 'D', 'G', 'I', ’L’, ‘ D’]\n",
    "a='ACADGILD'\n",
    "list(a)"
   ]
  },
  {
   "cell_type": "code",
   "execution_count": 23,
   "metadata": {},
   "outputs": [
    {
     "name": "stdout",
     "output_type": "stream",
     "text": [
      "['x', 'xx', 'xxx', 'xxxx', 'y', 'yy', 'yyy', 'yyyy', 'z', 'zz', 'zzz', 'zzzz']\n"
     ]
    }
   ],
   "source": [
    "#Write List comprehensions to produce the following Lists.\n",
    "#['x', 'xx', 'xxx', 'xxxx', 'y', 'yy', 'yyy', 'yyyy', 'z', 'zz', 'zzz', 'zzzz']\n",
    "a=['x','y','z']\n",
    "b=[]\n",
    "for i in a:\n",
    "    for j in range(1,5):\n",
    "         b.append(i*j)\n",
    "print(b)"
   ]
  },
  {
   "cell_type": "code",
   "execution_count": 24,
   "metadata": {},
   "outputs": [
    {
     "name": "stdout",
     "output_type": "stream",
     "text": [
      "['x', 'y', 'z', 'xx', 'yy', 'zz', 'xxx', 'yyy', 'zzz', 'xxxx', 'yyyy', 'zzzz']\n"
     ]
    }
   ],
   "source": [
    "#Write List comprehensions to produce the following Lists.\n",
    "#['x', 'y', 'z', 'xx', 'yy', 'zz', 'xxx', 'yyy', 'zzz', 'xxxx', 'yyyy', 'zzzz']\n",
    "a=['x','y','z']\n",
    "b=[]\n",
    "for i in range(1,5):\n",
    "    for j in a:\n",
    "         b.append(i*j)\n",
    "print(b)"
   ]
  },
  {
   "cell_type": "code",
   "execution_count": 25,
   "metadata": {},
   "outputs": [
    {
     "name": "stdout",
     "output_type": "stream",
     "text": [
      "[[2], [3], [4], [3], [4], [5], [4], [5], [6]]\n"
     ]
    }
   ],
   "source": [
    "#Write List comprehensions to produce the following Lists.\n",
    "#[[2], [3], [4], [3], [4], [5], [4], [5], [6]]\n",
    "a=[1,2,3]\n",
    "b=[]\n",
    "c=[]\n",
    "for i in range(1,4):\n",
    "    for j in a:\n",
    "        c.append(i+j)\n",
    "        b.append(c)\n",
    "        c=[]\n",
    "print(b)"
   ]
  },
  {
   "cell_type": "code",
   "execution_count": 26,
   "metadata": {},
   "outputs": [
    {
     "name": "stdout",
     "output_type": "stream",
     "text": [
      "[[2, 3, 4, 5], [3, 4, 5, 6], [4, 5, 6, 7], [5, 6, 7, 8]]\n"
     ]
    }
   ],
   "source": [
    "#Write List comprehensions to produce the following Lists.\n",
    "#[[2, 3, 4, 5], [3, 4, 5, 6], [4,5, 6, 7], [5, 6, 7, 8]]\n",
    "a=[1,2,3,4]\n",
    "b=[]\n",
    "c=[]\n",
    "for i in range(1,5):\n",
    "    for j in a:\n",
    "        c.append(i+j)\n",
    "    b.append(c)\n",
    "    c=[]\n",
    "print(b)\n"
   ]
  },
  {
   "cell_type": "code",
   "execution_count": 29,
   "metadata": {},
   "outputs": [
    {
     "name": "stdout",
     "output_type": "stream",
     "text": [
      "[(1, 1), (2, 1), (3, 1), (1, 2), (2, 2), (3, 2), (1, 3), (2, 3), (3, 3)]\n"
     ]
    }
   ],
   "source": [
    "#Write List comprehensions to produce the following Lists.\n",
    "#[(1, 1), (2, 1), (3, 1), (1, 2), (2, 2), (3, 2), (1, 3), (2, 3), (3, 3)]\n",
    "a=[1,2,3]\n",
    "b=[]\n",
    "c=[]\n",
    "for i in range(1,4):\n",
    "    for j in a:\n",
    "        b.append((j,i))\n",
    "print(b)"
   ]
  },
  {
   "cell_type": "code",
   "execution_count": 31,
   "metadata": {},
   "outputs": [
    {
     "name": "stdout",
     "output_type": "stream",
     "text": [
      "Rathinaraj\n"
     ]
    }
   ],
   "source": [
    "#Implement a function longestWord() that takes a list of words and returns the longest one.\n",
    "\n",
    "a=['Rathin','Raj','Rathinaraj']\n",
    "def longest_word(a):\n",
    "    long_len=0\n",
    "    for i in a:\n",
    "        if len(i) > long_len:\n",
    "            long_len=len(i)\n",
    "            b=i\n",
    "    print(b)\n",
    "\n",
    "longest_word(a)"
   ]
  },
  {
   "cell_type": "code",
   "execution_count": 33,
   "metadata": {},
   "outputs": [
    {
     "name": "stdout",
     "output_type": "stream",
     "text": [
      "Enter Side A2\n",
      "Enter Side B3\n",
      "Enter Side C4\n",
      "2.9047375096555625\n"
     ]
    }
   ],
   "source": [
    "#Write a Python Program(with class concepts) to find the area of the triangle using the below formula.\n",
    "#area = (s*(s-a)*(s-b)*(s-c)) ** 0.5\n",
    "\n",
    "class area_tri:\n",
    "    def __init__(this, a,b,c):\n",
    "        this.a = a\n",
    "        this.b = b\n",
    "        this.c = c\n",
    "    def calculateArea(this):\n",
    "        s = (this.a + this.b + this.c)/2\n",
    "        area = (s*(s-this.a)*(s-this.b)*(s-this.c)) ** 0.5\n",
    "        return area\n",
    "\n",
    "a = int(input('Enter Side A'))\n",
    "b = int(input('Enter Side B'))\n",
    "c = int(input('Enter Side C'))   \n",
    "area = area_tri(a,b,c)\n",
    "print(area.calculateArea())"
   ]
  },
  {
   "cell_type": "code",
   "execution_count": 34,
   "metadata": {},
   "outputs": [
    {
     "name": "stdout",
     "output_type": "stream",
     "text": [
      "['Rathin', 'Rathinaraj']\n"
     ]
    }
   ],
   "source": [
    "#Write a function filter_long_words() that takes a list of words and an integer n and returns the list of words that are longer than n.\n",
    "a=['Rathin','Raj','Rathinaraj']\n",
    "b=5\n",
    "def filter_long_words(a,b):\n",
    "    new_lis=[]\n",
    "    for i in a:\n",
    "        if len(i) > b:\n",
    "            new_lis.append(i)\n",
    "    print(new_lis)\n",
    "\n",
    "filter_long_words(a,b)"
   ]
  },
  {
   "cell_type": "code",
   "execution_count": 35,
   "metadata": {},
   "outputs": [
    {
     "name": "stdout",
     "output_type": "stream",
     "text": [
      "[6, 3, 10]\n"
     ]
    }
   ],
   "source": [
    "#Write a Python program using function concept that maps list of words into a list of integers representing the lengths\n",
    "#of the corresponding words.\n",
    "\n",
    "a=['Rathin','Raj','Rathinaraj']\n",
    "def find_lst_cnt(a):\n",
    "    new_lis=[]\n",
    "    for i in a:\n",
    "       new_lis.append(len(i))\n",
    "    print(new_lis)\n",
    "\n",
    "find_lst_cnt(a)"
   ]
  },
  {
   "cell_type": "code",
   "execution_count": 36,
   "metadata": {},
   "outputs": [
    {
     "data": {
      "text/plain": [
       "False"
      ]
     },
     "execution_count": 36,
     "metadata": {},
     "output_type": "execute_result"
    }
   ],
   "source": [
    "#Write a Python function which takes a character (i.e. a string of length 1) and returns True if it is a vowel, False otherwise.\n",
    "a=['a','e','i','o','u']\n",
    "b='aa'\n",
    "def find_vowels(b):\n",
    "    if b in a:\n",
    "       return True\n",
    "    else:\n",
    "       return False\n",
    "\n",
    "find_vowels(b)"
   ]
  },
  {
   "cell_type": "code",
   "execution_count": 37,
   "metadata": {},
   "outputs": [
    {
     "name": "stdout",
     "output_type": "stream",
     "text": [
      "Zero Division error occured\n"
     ]
    }
   ],
   "source": [
    "# Write a function to compute 5/0 and use try/except to catch the exceptions.\n",
    "def try_ex(a):\n",
    "    try:\n",
    "        print(50/a)\n",
    "    except:\n",
    "        print(\"Zero Division error occured\")\n",
    "    \n",
    "try_ex(0)"
   ]
  },
  {
   "cell_type": "code",
   "execution_count": 38,
   "metadata": {},
   "outputs": [
    {
     "name": "stdout",
     "output_type": "stream",
     "text": [
      "Americans  play Baseball\n",
      "Americans  play Cricket\n",
      "Americans  watch Baseball\n",
      "Americans  watch Cricket\n",
      "Indians play Baseball\n",
      "Indians play Cricket\n",
      "Indians watch Baseball\n",
      "Indians watch Cricket\n"
     ]
    }
   ],
   "source": [
    "#Implement a Python program to generate all sentences where subject is in [\"Americans\",\"Indians\"] and verb is in \n",
    "# [\"Play\", \"watch\"] and the object is in [\"Baseball\",\"cricket\"].\n",
    "subjects=[\"Americans \",\"Indians\"]\n",
    "verbs=[\"play\",\"watch\"]\n",
    "objects=[\"Baseball\",\"Cricket\"]\n",
    "for i in subjects:\n",
    "    for j in verbs:\n",
    "        for k in objects:\n",
    "            print(i +' '+j+ ' '+k)"
   ]
  }
 ],
 "metadata": {
  "kernelspec": {
   "display_name": "Python 3",
   "language": "python",
   "name": "python3"
  },
  "language_info": {
   "codemirror_mode": {
    "name": "ipython",
    "version": 3
   },
   "file_extension": ".py",
   "mimetype": "text/x-python",
   "name": "python",
   "nbconvert_exporter": "python",
   "pygments_lexer": "ipython3",
   "version": "3.7.1"
  }
 },
 "nbformat": 4,
 "nbformat_minor": 2
}
